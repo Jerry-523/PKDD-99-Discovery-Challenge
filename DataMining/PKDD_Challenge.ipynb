{
 "cells": [
  {
   "cell_type": "markdown",
   "metadata": {},
   "source": [
    "**1* Desafio Mineração de Dados**\n",
    "Student: Péricles Borges\n",
    "Class: Knowledge Engineering"
   ]
  },
  {
   "cell_type": "markdown",
   "metadata": {},
   "source": [
    "References\n",
    "    ----------\n",
    "    Original data description document with further info about fields/format:\n",
    "    http://sorry.vse.cz/~berka/challenge/pkdd1999/berka.htm"
   ]
  },
  {
   "cell_type": "code",
   "execution_count": 4,
   "metadata": {},
   "outputs": [],
   "source": [
    "import pandas as pd\n",
    "import pkdd99_database as pkdd99"
   ]
  },
  {
   "cell_type": "code",
   "execution_count": 5,
   "metadata": {},
   "outputs": [],
   "source": [
    "def get_database():\n",
    "\n",
    "    account = pd.read_csv('account.csv','delimiter',';')\n",
    "    card = pd.read_csv('card.csv','delimiter',';')\n",
    "    client = pd.read_csv('client.csv','delimiter',';')\n",
    "    disp = pd.read_csv('disp.csv','delimiter',';')\n",
    "    district = pd.read_csv('district.csv','delimiter',';')\n",
    "    loan = pd.read_csv('loan.csv','delimiter',';')\n",
    "    order = pd.read_csv('order.csv','delimiter',';')\n",
    "    trans = pd.read_csv('trans.csv','delimiter',';',low_memory=False)\n",
    "\n",
    "    account.name = 'Account'\n",
    "    card.name = 'Card'\n",
    "    client.name = 'Client'\n",
    "    disp.name = 'Disp'\n",
    "    district.name = 'District'\n",
    "    loan.name = 'Loan'\n",
    "    order.name = 'Order'\n",
    "    trans.name = 'Trans'\n",
    "\n",
    "    # descriptions are cut/pasted from the Financial Data Description webpage for the data\n",
    "    account.description = 'each record describes static characteristics of an account'\n",
    "    card.description = 'each record describes a credit card issued to an account'\n",
    "    client.description = 'each record describes characteristics of a client'\n",
    "    disp.description = 'each record relates together a client with an account'\n",
    "    district.description = 'each record describes demographic characteristics of a district'\n",
    "    loan.description = 'each record describes a loan granted for a given account'\n",
    "    order.description = 'each record describes characteristics of a payment order'\n",
    "    trans.description = 'each record describes one transaction on an account'\n",
    "\n",
    "    account.notes = '(one account can have one or more clients, e.g. married couples)'\n",
    "    card.notes = '(one account can have one or more credit cards)'\n",
    "    client.notes = '(one client can have one or more accounts)'\n",
    "    disp.notes = '(disposition connects a client/account pair and allows to link one or more cards)'\n",
    "    district.notes = '(neighborhoods for both bank/account branches and client homes.  same 16 fields as original A1-16.)'\n",
    "    loan.notes = '(one account may have zero or one loan.  see loan.codes for ABCD status definitions)'\n",
    "    order.notes = '(one payment order is from one account)'\n",
    "    trans.notes = '(category,bank,account are NaN for some types/operations.)'\n",
    "    loan.codes = 'Loan status codes:\\nA = contract finished, no problems\\nB = contract finished, loan not payed\\nC = running contract, OK so far\\nD = running contract, client in debt'\n",
    "\n",
    "    account,card,client,disp,district,loan,order,trans = _translate_and_clean(\n",
    "        account,card,client,disp,district,loan,order,trans\n",
    "    )\n",
    "\n",
    "    return account,card,client,disp,district,loan,order,trans"
   ]
  },
  {
   "cell_type": "code",
   "execution_count": 11,
   "metadata": {},
   "outputs": [],
   "source": [
    "def table_summary(df):\n",
    "\n",
    "    print(df.name,': length',len(df),':',df.description)\n",
    "    print(df.notes)\n",
    "    print(df.head(3))\n",
    "    print(' ')"
   ]
  },
  {
   "cell_type": "code",
   "execution_count": 13,
   "metadata": {},
   "outputs": [
    {
     "ename": "TypeError",
     "evalue": "table_summary() missing 1 required positional argument: 'df'",
     "output_type": "error",
     "traceback": [
      "\u001b[0;31m---------------------------------------------------------------------------\u001b[0m",
      "\u001b[0;31mTypeError\u001b[0m                                 Traceback (most recent call last)",
      "\u001b[1;32m/home/user/Documents/1*Semestre/Eng. Conhecimento/Works/master/PKDD_Challenge.ipynb Cell 6\u001b[0m line \u001b[0;36m1\n\u001b[0;32m----> <a href='vscode-notebook-cell:/home/user/Documents/1%2ASemestre/Eng.%20Conhecimento/Works/master/PKDD_Challenge.ipynb#X10sZmlsZQ%3D%3D?line=0'>1</a>\u001b[0m table_summary()\n",
      "\u001b[0;31mTypeError\u001b[0m: table_summary() missing 1 required positional argument: 'df'"
     ]
    }
   ],
   "source": []
  }
 ],
 "metadata": {
  "kernelspec": {
   "display_name": "Python 3",
   "language": "python",
   "name": "python3"
  },
  "language_info": {
   "codemirror_mode": {
    "name": "ipython",
    "version": 3
   },
   "file_extension": ".py",
   "mimetype": "text/x-python",
   "name": "python",
   "nbconvert_exporter": "python",
   "pygments_lexer": "ipython3",
   "version": "3.11.2"
  }
 },
 "nbformat": 4,
 "nbformat_minor": 2
}
